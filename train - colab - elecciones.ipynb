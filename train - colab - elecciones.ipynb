{
  "cells": [
    {
      "cell_type": "code",
      "execution_count": null,
      "metadata": {
        "id": "51Jm1G6vtTuK"
      },
      "outputs": [],
      "source": [
        "! git clone --quiet https://github.com/clovaai/donut.git\n",
        "# ! cd donut && pip install ."
      ]
    },
    {
      "cell_type": "code",
      "execution_count": null,
      "metadata": {
        "id": "EX7hUZWQIB1W"
      },
      "outputs": [],
      "source": [
        "#https://github.com/clovaai/donut/issues/207 #linea 101\n",
        "! sed -i '101d' /content/donut/donut/model.py"
      ]
    },
    {
      "cell_type": "code",
      "execution_count": null,
      "metadata": {
        "colab": {
          "base_uri": "https://localhost:8080/"
        },
        "id": "0QlRcFxhkfPX",
        "outputId": "a8b74d79-fc08-4878-a4c4-fc6f7b92d7f2"
      },
      "outputs": [],
      "source": [
        "! pip install --quiet --no-cache-dir transformers==4.25.1 sconf zss datasets[vision] sentencepiece pytorch-lightning==2.0.7 timm==0.5.4\n",
        "#timm==0.9.10\n",
        "# #--quiet\n",
        "# #nooo# ! pip install donut-python gradio\n",
        "# ! pip install transformers==4.29.2\n",
        "# #nooo timm==0.5.4\n",
        "# #noooo ! pip install pytorch-lightning==1.6.4\n",
        "# ! pip install sconf\n",
        "# ! pip install zss\n",
        "# ! pip install datasets[vision]\n",
        "# ! pip install sentencepiece\n",
        "# ! pip install timm==0.9.10\n",
        "# ! pip install timm==0.6.5\n",
        "# ! pip install timm==0.5.4\n",
        "# # ! git lfs install\n",
        "# # ! git clone https://huggingface.co/spaces/naver-clova-ix/donut-base-finetuned-cord-v2\n",
        "# # ! cd donut-base-finetuned-cord-v2 && pip install -r requirements.txt\n",
        "# ! pip install pytorch-lightning==2.0.7"
      ]
    },
    {
      "cell_type": "code",
      "execution_count": null,
      "metadata": {
        "id": "84w_ZSSqh4QK"
      },
      "outputs": [],
      "source": [
        "# from donut import DonutModel\n",
        "# from PIL import Image\n",
        "# import torch\n",
        "# model = DonutModel.from_pretrained(\"naver-clova-ix/donut-base-finetuned-cord-v2\")#, ignore_mismatched_sizes=True)\n",
        "# if torch.cuda.is_available():\n",
        "#     model.half()\n",
        "#     device = torch.device(\"cuda\")\n",
        "#     model.to(device)\n",
        "# else:\n",
        "#     model.encoder.to(torch.bfloat16)\n",
        "# model.eval()\n",
        "# image = Image.open(\"/content/donut-base-finetuned-cord-v2/sample_image_cord_test_receipt_00004.png\").convert(\"RGB\")\n",
        "# output = model.inference(image=image, prompt=\"<s_cord-v2>\")\n",
        "# output"
      ]
    },
    {
      "cell_type": "code",
      "execution_count": null,
      "metadata": {
        "id": "8NsNStn7uQXw"
      },
      "outputs": [],
      "source": [
        "# ! gdown --fuzzy https://drive.google.com/file/d/1rgCwufs0IVtTYBk5BSmqEHUe_MKFRhJI/view?usp=sharing\n",
        "# ! unzip -oq donut_dataset_elecciones.zip\n",
        "# ! rm donut_dataset_elecciones.zip\n",
        "# ! mv /content/data/donut_dataset /content/data/elecciones_generales"
      ]
    },
    {
      "cell_type": "code",
      "execution_count": null,
      "metadata": {
        "id": "w6JcjdwV4HjP"
      },
      "outputs": [],
      "source": [
        "! rm -rf /content/data/\n",
        "! unzip -oq donut_dataset_elecciones.zip\n",
        "# ! rm donut_dataset_elecciones.zip\n",
        "! mv /content/data/donut_dataset /content/data/elecciones_generales"
      ]
    },
    {
      "cell_type": "code",
      "execution_count": null,
      "metadata": {
        "colab": {
          "base_uri": "https://localhost:8080/",
          "height": 84,
          "referenced_widgets": [
            "f3b4feda272342cca74a11ebf8d60d50",
            "b2d65ff62d8b4651a19e960296de3ac3",
            "6c3ed6aba04549258aa94bcf88671bb0",
            "e2b2d7cc2c8049aa9e2e2cf1aad58cdd",
            "64af4ed121de4faaad99cf69847084c4",
            "c34ee4718a4e4882a0f9c7f8d0893db7",
            "245e6ed1c5394b7a988aafbc51d8a865",
            "6ed07087f38d4a7cb87d3f5bdace7f06",
            "9da38741b3c848ff94d7ff6dc3fa1b38",
            "8daa1f0b4521442895c2860ce4bb561b",
            "229a96d317564e54ba2ce65edafaec7c"
          ]
        },
        "id": "Y4RQ3xrw4ZKD",
        "outputId": "02ffac20-06fc-401e-f0b3-5831bc33071e"
      },
      "outputs": [],
      "source": [
        "#convert tiff files to jpeg\n",
        "\n",
        "from glob import glob\n",
        "from tqdm.auto import tqdm\n",
        "from PIL import Image as ImagePil\n",
        "from os import path, remove\n",
        "\n",
        "! du -sh /content/data/elecciones_generales\n",
        "train_images_counter = 0\n",
        "\n",
        "for tiff_path in tqdm(glob('/content/data/elecciones_generales/**/*.tiff')):\n",
        "  if 'train' in tiff_path: train_images_counter += 1\n",
        "  tiff_path_dir, tiff_filename = path.split(path.abspath(tiff_path))\n",
        "  tiff_filename_wo_ext = path.splitext(tiff_filename)[0]\n",
        "  jpeg_path = path.join(tiff_path_dir, tiff_filename_wo_ext + '.jpg')\n",
        "  ImagePil.open(tiff_path).convert('RGB').save(jpeg_path, quality=90, subsampling=0, optimize=False) #subsampling=1, optimize=True\n",
        "  remove(tiff_path)\n",
        "\n",
        "! du -sh /content/data/elecciones_generales"
      ]
    },
    {
      "cell_type": "code",
      "execution_count": null,
      "metadata": {
        "id": "Eq6t1VZqC2DE"
      },
      "outputs": [],
      "source": [
        "TRAIN_BATCH_SIZES = 2\n",
        "MAX_EPOCHS = 20\n",
        "WARMUP_STEPS = int((train_images_counter /  TRAIN_BATCH_SIZES) * MAX_EPOCHS * .1) #10% of total training steps"
      ]
    },
    {
      "cell_type": "code",
      "execution_count": null,
      "metadata": {
        "id": "yEPOlF8zboFk"
      },
      "outputs": [],
      "source": [
        "%%bash -s \"$train_images_counter\" \"$TRAIN_BATCH_SIZES\" \"$MAX_EPOCHS\" \"$WARMUP_STEPS\"\n",
        "\n",
        "cat >/content/donut/config/train_generales.yaml<<EOL\n",
        "resume_from_checkpoint_path: null # only used for resume_from_checkpoint option in PL\n",
        "result_path: \"./result\"\n",
        "pretrained_model_name_or_path: \"naver-clova-ix/donut-base\" # loading a pre-trained model (from moldehub or path)\n",
        "dataset_name_or_paths: [\"/content/data/elecciones_generales\"] # loading datasets (from moldehub or path)\n",
        "sort_json_key: False # cord dataset is preprocessed, and publicly available at https://huggingface.co/datasets/naver-clova-ix/cord-v2\n",
        "train_batch_sizes: [$2]\n",
        "val_batch_sizes: [$2]\n",
        "# input_size: [704, 320] # when the input resolution differs from the pre-training setting, some weights will be newly initialized (but the model training would be okay)\n",
        "# input_size: [1280, 960]\n",
        "input_size: [640, 320]\n",
        "max_length: 256\n",
        "align_long_axis: False\n",
        "num_nodes: 1\n",
        "seed: 2022\n",
        "lr: 3e-5\n",
        "warmup_steps: $4 # 10% of total steps, equals to num_training_samples_per_epoch / train_batch_sizes * max_epochs / 10\n",
        "num_training_samples_per_epoch: $1 # Set it to the number of training images you have\n",
        "max_epochs: $3 #30\n",
        "max_steps: -1\n",
        "num_workers: 2 #8???\n",
        "val_check_interval: 1.0\n",
        "check_val_every_n_epoch: 3 # 5 #10\n",
        "gradient_clip_val: 1.0\n",
        "verbose: True\n",
        "EOL"
      ]
    },
    {
      "cell_type": "code",
      "execution_count": null,
      "metadata": {
        "colab": {
          "base_uri": "https://localhost:8080/"
        },
        "id": "cGb3fVZV0IRl",
        "outputId": "26b76e65-306d-4e70-d7be-d8bcdcbca16c"
      },
      "outputs": [],
      "source": [
        "! cd /content/donut && python train.py --config /content/donut/config/train_generales.yaml"
      ]
    },
    {
      "cell_type": "code",
      "execution_count": null,
      "metadata": {
        "colab": {
          "base_uri": "https://localhost:8080/"
        },
        "id": "_cD8WhpZXMbi",
        "outputId": "90939128-a3ff-42ad-f463-287d84b98e85"
      },
      "outputs": [],
      "source": [
        "! cd /content/donut && python test.py --dataset_name_or_path /content/data/elecciones_generales --pretrained_model_name_or_path /content/donut/result/train_generales/20231114_111917 --save_path ./result/output.json"
      ]
    }
  ],
  "metadata": {
    "accelerator": "GPU",
    "colab": {
      "gpuType": "T4",
      "provenance": []
    },
    "kernelspec": {
      "display_name": "Python 3",
      "name": "python3"
    },
    "language_info": {
      "name": "python"
    },
    "widgets": {
      "application/vnd.jupyter.widget-state+json": {
        "229a96d317564e54ba2ce65edafaec7c": {
          "model_module": "@jupyter-widgets/controls",
          "model_module_version": "1.5.0",
          "model_name": "DescriptionStyleModel",
          "state": {
            "_model_module": "@jupyter-widgets/controls",
            "_model_module_version": "1.5.0",
            "_model_name": "DescriptionStyleModel",
            "_view_count": null,
            "_view_module": "@jupyter-widgets/base",
            "_view_module_version": "1.2.0",
            "_view_name": "StyleView",
            "description_width": ""
          }
        },
        "245e6ed1c5394b7a988aafbc51d8a865": {
          "model_module": "@jupyter-widgets/controls",
          "model_module_version": "1.5.0",
          "model_name": "DescriptionStyleModel",
          "state": {
            "_model_module": "@jupyter-widgets/controls",
            "_model_module_version": "1.5.0",
            "_model_name": "DescriptionStyleModel",
            "_view_count": null,
            "_view_module": "@jupyter-widgets/base",
            "_view_module_version": "1.2.0",
            "_view_name": "StyleView",
            "description_width": ""
          }
        },
        "64af4ed121de4faaad99cf69847084c4": {
          "model_module": "@jupyter-widgets/base",
          "model_module_version": "1.2.0",
          "model_name": "LayoutModel",
          "state": {
            "_model_module": "@jupyter-widgets/base",
            "_model_module_version": "1.2.0",
            "_model_name": "LayoutModel",
            "_view_count": null,
            "_view_module": "@jupyter-widgets/base",
            "_view_module_version": "1.2.0",
            "_view_name": "LayoutView",
            "align_content": null,
            "align_items": null,
            "align_self": null,
            "border": null,
            "bottom": null,
            "display": null,
            "flex": null,
            "flex_flow": null,
            "grid_area": null,
            "grid_auto_columns": null,
            "grid_auto_flow": null,
            "grid_auto_rows": null,
            "grid_column": null,
            "grid_gap": null,
            "grid_row": null,
            "grid_template_areas": null,
            "grid_template_columns": null,
            "grid_template_rows": null,
            "height": null,
            "justify_content": null,
            "justify_items": null,
            "left": null,
            "margin": null,
            "max_height": null,
            "max_width": null,
            "min_height": null,
            "min_width": null,
            "object_fit": null,
            "object_position": null,
            "order": null,
            "overflow": null,
            "overflow_x": null,
            "overflow_y": null,
            "padding": null,
            "right": null,
            "top": null,
            "visibility": null,
            "width": null
          }
        },
        "6c3ed6aba04549258aa94bcf88671bb0": {
          "model_module": "@jupyter-widgets/controls",
          "model_module_version": "1.5.0",
          "model_name": "FloatProgressModel",
          "state": {
            "_dom_classes": [],
            "_model_module": "@jupyter-widgets/controls",
            "_model_module_version": "1.5.0",
            "_model_name": "FloatProgressModel",
            "_view_count": null,
            "_view_module": "@jupyter-widgets/controls",
            "_view_module_version": "1.5.0",
            "_view_name": "ProgressView",
            "bar_style": "success",
            "description": "",
            "description_tooltip": null,
            "layout": "IPY_MODEL_6ed07087f38d4a7cb87d3f5bdace7f06",
            "max": 1183,
            "min": 0,
            "orientation": "horizontal",
            "style": "IPY_MODEL_9da38741b3c848ff94d7ff6dc3fa1b38",
            "value": 1183
          }
        },
        "6ed07087f38d4a7cb87d3f5bdace7f06": {
          "model_module": "@jupyter-widgets/base",
          "model_module_version": "1.2.0",
          "model_name": "LayoutModel",
          "state": {
            "_model_module": "@jupyter-widgets/base",
            "_model_module_version": "1.2.0",
            "_model_name": "LayoutModel",
            "_view_count": null,
            "_view_module": "@jupyter-widgets/base",
            "_view_module_version": "1.2.0",
            "_view_name": "LayoutView",
            "align_content": null,
            "align_items": null,
            "align_self": null,
            "border": null,
            "bottom": null,
            "display": null,
            "flex": null,
            "flex_flow": null,
            "grid_area": null,
            "grid_auto_columns": null,
            "grid_auto_flow": null,
            "grid_auto_rows": null,
            "grid_column": null,
            "grid_gap": null,
            "grid_row": null,
            "grid_template_areas": null,
            "grid_template_columns": null,
            "grid_template_rows": null,
            "height": null,
            "justify_content": null,
            "justify_items": null,
            "left": null,
            "margin": null,
            "max_height": null,
            "max_width": null,
            "min_height": null,
            "min_width": null,
            "object_fit": null,
            "object_position": null,
            "order": null,
            "overflow": null,
            "overflow_x": null,
            "overflow_y": null,
            "padding": null,
            "right": null,
            "top": null,
            "visibility": null,
            "width": null
          }
        },
        "8daa1f0b4521442895c2860ce4bb561b": {
          "model_module": "@jupyter-widgets/base",
          "model_module_version": "1.2.0",
          "model_name": "LayoutModel",
          "state": {
            "_model_module": "@jupyter-widgets/base",
            "_model_module_version": "1.2.0",
            "_model_name": "LayoutModel",
            "_view_count": null,
            "_view_module": "@jupyter-widgets/base",
            "_view_module_version": "1.2.0",
            "_view_name": "LayoutView",
            "align_content": null,
            "align_items": null,
            "align_self": null,
            "border": null,
            "bottom": null,
            "display": null,
            "flex": null,
            "flex_flow": null,
            "grid_area": null,
            "grid_auto_columns": null,
            "grid_auto_flow": null,
            "grid_auto_rows": null,
            "grid_column": null,
            "grid_gap": null,
            "grid_row": null,
            "grid_template_areas": null,
            "grid_template_columns": null,
            "grid_template_rows": null,
            "height": null,
            "justify_content": null,
            "justify_items": null,
            "left": null,
            "margin": null,
            "max_height": null,
            "max_width": null,
            "min_height": null,
            "min_width": null,
            "object_fit": null,
            "object_position": null,
            "order": null,
            "overflow": null,
            "overflow_x": null,
            "overflow_y": null,
            "padding": null,
            "right": null,
            "top": null,
            "visibility": null,
            "width": null
          }
        },
        "9da38741b3c848ff94d7ff6dc3fa1b38": {
          "model_module": "@jupyter-widgets/controls",
          "model_module_version": "1.5.0",
          "model_name": "ProgressStyleModel",
          "state": {
            "_model_module": "@jupyter-widgets/controls",
            "_model_module_version": "1.5.0",
            "_model_name": "ProgressStyleModel",
            "_view_count": null,
            "_view_module": "@jupyter-widgets/base",
            "_view_module_version": "1.2.0",
            "_view_name": "StyleView",
            "bar_color": null,
            "description_width": ""
          }
        },
        "b2d65ff62d8b4651a19e960296de3ac3": {
          "model_module": "@jupyter-widgets/controls",
          "model_module_version": "1.5.0",
          "model_name": "HTMLModel",
          "state": {
            "_dom_classes": [],
            "_model_module": "@jupyter-widgets/controls",
            "_model_module_version": "1.5.0",
            "_model_name": "HTMLModel",
            "_view_count": null,
            "_view_module": "@jupyter-widgets/controls",
            "_view_module_version": "1.5.0",
            "_view_name": "HTMLView",
            "description": "",
            "description_tooltip": null,
            "layout": "IPY_MODEL_c34ee4718a4e4882a0f9c7f8d0893db7",
            "placeholder": "​",
            "style": "IPY_MODEL_245e6ed1c5394b7a988aafbc51d8a865",
            "value": "100%"
          }
        },
        "c34ee4718a4e4882a0f9c7f8d0893db7": {
          "model_module": "@jupyter-widgets/base",
          "model_module_version": "1.2.0",
          "model_name": "LayoutModel",
          "state": {
            "_model_module": "@jupyter-widgets/base",
            "_model_module_version": "1.2.0",
            "_model_name": "LayoutModel",
            "_view_count": null,
            "_view_module": "@jupyter-widgets/base",
            "_view_module_version": "1.2.0",
            "_view_name": "LayoutView",
            "align_content": null,
            "align_items": null,
            "align_self": null,
            "border": null,
            "bottom": null,
            "display": null,
            "flex": null,
            "flex_flow": null,
            "grid_area": null,
            "grid_auto_columns": null,
            "grid_auto_flow": null,
            "grid_auto_rows": null,
            "grid_column": null,
            "grid_gap": null,
            "grid_row": null,
            "grid_template_areas": null,
            "grid_template_columns": null,
            "grid_template_rows": null,
            "height": null,
            "justify_content": null,
            "justify_items": null,
            "left": null,
            "margin": null,
            "max_height": null,
            "max_width": null,
            "min_height": null,
            "min_width": null,
            "object_fit": null,
            "object_position": null,
            "order": null,
            "overflow": null,
            "overflow_x": null,
            "overflow_y": null,
            "padding": null,
            "right": null,
            "top": null,
            "visibility": null,
            "width": null
          }
        },
        "e2b2d7cc2c8049aa9e2e2cf1aad58cdd": {
          "model_module": "@jupyter-widgets/controls",
          "model_module_version": "1.5.0",
          "model_name": "HTMLModel",
          "state": {
            "_dom_classes": [],
            "_model_module": "@jupyter-widgets/controls",
            "_model_module_version": "1.5.0",
            "_model_name": "HTMLModel",
            "_view_count": null,
            "_view_module": "@jupyter-widgets/controls",
            "_view_module_version": "1.5.0",
            "_view_name": "HTMLView",
            "description": "",
            "description_tooltip": null,
            "layout": "IPY_MODEL_8daa1f0b4521442895c2860ce4bb561b",
            "placeholder": "​",
            "style": "IPY_MODEL_229a96d317564e54ba2ce65edafaec7c",
            "value": " 1183/1183 [00:06&lt;00:00, 180.48it/s]"
          }
        },
        "f3b4feda272342cca74a11ebf8d60d50": {
          "model_module": "@jupyter-widgets/controls",
          "model_module_version": "1.5.0",
          "model_name": "HBoxModel",
          "state": {
            "_dom_classes": [],
            "_model_module": "@jupyter-widgets/controls",
            "_model_module_version": "1.5.0",
            "_model_name": "HBoxModel",
            "_view_count": null,
            "_view_module": "@jupyter-widgets/controls",
            "_view_module_version": "1.5.0",
            "_view_name": "HBoxView",
            "box_style": "",
            "children": [
              "IPY_MODEL_b2d65ff62d8b4651a19e960296de3ac3",
              "IPY_MODEL_6c3ed6aba04549258aa94bcf88671bb0",
              "IPY_MODEL_e2b2d7cc2c8049aa9e2e2cf1aad58cdd"
            ],
            "layout": "IPY_MODEL_64af4ed121de4faaad99cf69847084c4"
          }
        }
      }
    }
  },
  "nbformat": 4,
  "nbformat_minor": 0
}
