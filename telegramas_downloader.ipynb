{
 "cells": [
  {
   "cell_type": "code",
   "execution_count": null,
   "metadata": {},
   "outputs": [],
   "source": [
    "import pandas as pd\n",
    "from tqdm.auto import tqdm"
   ]
  },
  {
   "cell_type": "code",
   "execution_count": null,
   "metadata": {},
   "outputs": [],
   "source": [
    "GET_TIFF_URL = \"https://resultados.gob.ar/backend-difu/scope/data/getTiff/{}\""
   ]
  },
  {
   "cell_type": "code",
   "execution_count": null,
   "metadata": {},
   "outputs": [],
   "source": [
    "df_mesas = pd.read_csv('data/mesas_por_localidad.csv', encoding='latin1')\n",
    "print(len(df_mesas))"
   ]
  },
  {
   "cell_type": "code",
   "execution_count": null,
   "metadata": {},
   "outputs": [],
   "source": [
    "# distrito_nombre = \"Ciudad Autónoma de Buenos Aires\"\n",
    "# mesas_id_distrito = df_mesas[df_mesas['distrito_nombre'] == distrito_nombre]['identificador_unico_mesa'].values.tolist()\n",
    "# len(mesas_id_distrito)"
   ]
  },
  {
   "cell_type": "code",
   "execution_count": null,
   "metadata": {},
   "outputs": [],
   "source": [
    "mesas_id = df_mesas['identificador_unico_mesa'].values.tolist()\n",
    "distritos = df_mesas['distrito_nombre'].values.tolist()"
   ]
  },
  {
   "cell_type": "code",
   "execution_count": null,
   "metadata": {},
   "outputs": [],
   "source": [
    "\n",
    "from pathlib import Path\n",
    "import shutil\n",
    "save_path = \"data/telegramas/\"\n",
    "\n",
    "shutil.rmtree(save_path, ignore_errors=True)\n",
    "\n",
    "for distrito in distritos:\n",
    "    Path(save_path + distrito + \"/\").mkdir(parents=True, exist_ok=True)"
   ]
  },
  {
   "cell_type": "code",
   "execution_count": null,
   "metadata": {},
   "outputs": [],
   "source": [
    "# ! pip install pqdm"
   ]
  },
  {
   "cell_type": "code",
   "execution_count": null,
   "metadata": {},
   "outputs": [],
   "source": [
    "from urllib.request import urlopen\n",
    "import json\n",
    "import base64\n",
    "from os.path import isfile"
   ]
  },
  {
   "cell_type": "code",
   "execution_count": null,
   "metadata": {},
   "outputs": [],
   "source": [
    "# tiffs_not_found = []\n",
    "\n",
    "# for mesa_id in tqdm(mesas_id_distrito):\n",
    "#     image_save_path = f\"{save_path}{mesa_id}.tiff\"\n",
    "    \n",
    "#     if not isfile(image_save_path):\n",
    "#         # print(GET_TIFF_URL.format(mesa_id))\n",
    "#         response = urlopen(GET_TIFF_URL.format(mesa_id)).read().decode(\"utf-8\")\n",
    "#         if len(response) > 0:\n",
    "#             response = json.loads(response)\n",
    "\n",
    "#             binary_data = base64.b64decode(response['encodingBinary'])\n",
    "            \n",
    "#             with open(image_save_path, \"wb\") as tiff_file:\n",
    "#                 tiff_file.write(binary_data)\n",
    "#         else:\n",
    "#             tiffs_not_found.append(mesa_id)"
   ]
  },
  {
   "cell_type": "code",
   "execution_count": null,
   "metadata": {},
   "outputs": [],
   "source": [
    "from pqdm.threads import pqdm\n",
    "\n",
    "def download_telegrama(item):\n",
    "    mesa_id = item[0]\n",
    "    distrito = item[1]\n",
    "\n",
    "    image_save_path = save_path + distrito + '/' + mesa_id + '.tiff'\n",
    "    \n",
    "    \n",
    "    if not isfile(image_save_path):\n",
    "        response = urlopen(GET_TIFF_URL.format(mesa_id)).read().decode(\"utf-8\")\n",
    "        if len(response) > 0:\n",
    "            response = json.loads(response)\n",
    "\n",
    "            binary_data = base64.b64decode(response['encodingBinary'])\n",
    "            \n",
    "            with open(image_save_path, \"wb\") as tiff_file:\n",
    "                tiff_file.write(binary_data)\n",
    "        else:\n",
    "            tiffs_not_found.append(mesa_id)\n",
    "\n",
    "            return mesa_id\n",
    "\n",
    "\n",
    "tiffs_not_found = []\n",
    "\n",
    "tiffs_not_found_result = pqdm(zip(mesas_id, distritos), download_telegrama, n_jobs=6)"
   ]
  },
  {
   "cell_type": "code",
   "execution_count": null,
   "metadata": {},
   "outputs": [],
   "source": [
    "assert len(tiffs_not_found) == len([tiff for tiff in tiffs_not_found_result if tiff is not None])\n",
    "len(tiffs_not_found)"
   ]
  },
  {
   "cell_type": "code",
   "execution_count": null,
   "metadata": {},
   "outputs": [],
   "source": [
    "with open(save_path + 'tiffs_not_found.txt', 'wt') as f:\n",
    "    for mesa_id in tiffs_not_found:\n",
    "        f.write(f\"{mesa_id}\\n\")"
   ]
  }
 ],
 "metadata": {
  "kernelspec": {
   "display_name": "Python 3",
   "language": "python",
   "name": "python3"
  },
  "language_info": {
   "codemirror_mode": {
    "name": "ipython",
    "version": 3
   },
   "file_extension": ".py",
   "mimetype": "text/x-python",
   "name": "python",
   "nbconvert_exporter": "python",
   "pygments_lexer": "ipython3",
   "version": "3.8.0"
  }
 },
 "nbformat": 4,
 "nbformat_minor": 2
}
