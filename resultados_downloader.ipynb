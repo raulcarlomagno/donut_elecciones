{
 "cells": [
  {
   "cell_type": "code",
   "execution_count": null,
   "metadata": {},
   "outputs": [],
   "source": [
    "import pandas as pd\n",
    "from tqdm.auto import tqdm"
   ]
  },
  {
   "cell_type": "code",
   "execution_count": null,
   "metadata": {},
   "outputs": [],
   "source": [
    "GET_MESA_DATA_URL = \"https://resultados.gob.ar/backend-difu/scope/data/getScopeData/{}/1\""
   ]
  },
  {
   "cell_type": "code",
   "execution_count": null,
   "metadata": {},
   "outputs": [],
   "source": [
    "df_mesas = pd.read_csv('data/mesas_por_localidad.csv', encoding='latin1')\n",
    "print(len(df_mesas))\n",
    "df_mesas.sample(5)"
   ]
  },
  {
   "cell_type": "code",
   "execution_count": null,
   "metadata": {},
   "outputs": [],
   "source": [
    "mesas_id = df_mesas['identificador_unico_mesa'].values.tolist()\n",
    "distritos = df_mesas['distrito_nombre'].values.tolist()"
   ]
  },
  {
   "cell_type": "code",
   "execution_count": null,
   "metadata": {},
   "outputs": [],
   "source": [
    "# distrito_nombre = \"Neuquén\"\n",
    "# mesas_id = df_mesas[df_mesas['distrito_nombre'] == distrito_nombre]['identificador_unico_mesa'].values.tolist()\n",
    "# distrito_nombre = df_mesas[df_mesas['distrito_nombre'] == distrito_nombre]['identificador_unico_mesa'].values.tolist()\n",
    "# len(mesas_id_distrito)"
   ]
  },
  {
   "cell_type": "code",
   "execution_count": null,
   "metadata": {},
   "outputs": [],
   "source": [
    "from urllib.request import urlopen\n",
    "from os.path import isfile\n",
    "import json"
   ]
  },
  {
   "cell_type": "code",
   "execution_count": null,
   "metadata": {},
   "outputs": [],
   "source": [
    "response = urlopen(GET_MESA_DATA_URL.format(mesas_id_distrito[0])).read().decode(\"utf-8\")\n",
    "# json.loads(response)"
   ]
  },
  {
   "cell_type": "code",
   "execution_count": null,
   "metadata": {},
   "outputs": [],
   "source": [
    "from pathlib import Path\n",
    "import shutil\n",
    "save_path = \"data/resultados/\"\n",
    "\n",
    "# shutil.rmtree(save_path, ignore_errors=True)\n",
    "\n",
    "for distrito in distritos:\n",
    "    Path(save_path + distrito + \"/\").mkdir(parents=True, exist_ok=True)"
   ]
  },
  {
   "cell_type": "code",
   "execution_count": null,
   "metadata": {},
   "outputs": [],
   "source": [
    "# def make_batches(iterable, batch_size):\n",
    "#     positions = range(0, len(iterable), batch_size)\n",
    "#     return [iterable[pos:pos + batch_size] for pos in positions]"
   ]
  },
  {
   "cell_type": "code",
   "execution_count": null,
   "metadata": {},
   "outputs": [],
   "source": [
    "# ! pip install pqdm"
   ]
  },
  {
   "cell_type": "code",
   "execution_count": null,
   "metadata": {},
   "outputs": [],
   "source": [
    "\n",
    "from pqdm.threads import pqdm\n",
    "\n",
    "def download_resultados_json(item):\n",
    "    mesa_id = item[0]\n",
    "    distrito = item[1]\n",
    "\n",
    "    save_file_path = save_path + distrito + '/' + mesa_id + '.json'\n",
    "\n",
    "    if not isfile(save_file_path):\n",
    "        # response = urlopen('https://resultados.gob.ar/backend-difu/scope/data/getScopeData/{}/1'.format(mesa_id)).read().decode(\"utf-8\")\n",
    "        response = urlopen(GET_MESA_DATA_URL.format(mesa_id)).read().decode(\"utf-8\")\n",
    "        with open(save_file_path, 'w', encoding='utf-8') as f:\n",
    "            f.write(response)\n",
    "\n",
    "result = pqdm(zip(mesas_id, distritos), download_resultados_json, n_jobs=4)"
   ]
  },
  {
   "cell_type": "code",
   "execution_count": null,
   "metadata": {},
   "outputs": [],
   "source": [
    "# # #TODO: paralelizar\n",
    "\n",
    "# for mesa_id in tqdm(mesas_id_distrito):\n",
    "#     save_file_path = save_path + mesa_id + '.json'\n",
    "\n",
    "#     if not isfile(save_file_path):\n",
    "#         response = urlopen(GET_MESA_DATA_URL.format(mesa_id)).read().decode(\"utf-8\")\n",
    "#         with open(save_file_path, 'w', encoding='utf-8') as f:\n",
    "#             f.write(response)"
   ]
  }
 ],
 "metadata": {
  "kernelspec": {
   "display_name": "Python 3",
   "language": "python",
   "name": "python3"
  },
  "language_info": {
   "codemirror_mode": {
    "name": "ipython",
    "version": 3
   },
   "file_extension": ".py",
   "mimetype": "text/x-python",
   "name": "python",
   "nbconvert_exporter": "python",
   "pygments_lexer": "ipython3",
   "version": "3.8.0"
  }
 },
 "nbformat": 4,
 "nbformat_minor": 2
}
