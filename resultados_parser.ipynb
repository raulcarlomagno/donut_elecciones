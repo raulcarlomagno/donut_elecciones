{
 "cells": [
  {
   "cell_type": "code",
   "execution_count": null,
   "metadata": {},
   "outputs": [],
   "source": [
    "import json\n",
    "import pandas as pd\n",
    "from tqdm.auto import tqdm\n",
    "import csv"
   ]
  },
  {
   "cell_type": "code",
   "execution_count": null,
   "metadata": {},
   "outputs": [],
   "source": [
    "df_mesas = pd.read_csv('data/mesas_por_localidad.csv', encoding='latin1')\n",
    "print(len(df_mesas))"
   ]
  },
  {
   "cell_type": "code",
   "execution_count": null,
   "metadata": {},
   "outputs": [],
   "source": [
    "# distrito_nombre = \"Ciudad Autónoma de Buenos Aires\"\n",
    "# mesas_id_distrito = df_mesas[df_mesas['distrito_nombre'] == distrito_nombre]['identificador_unico_mesa'].values.tolist()\n",
    "# len(mesas_id_distrito)"
   ]
  },
  {
   "cell_type": "code",
   "execution_count": null,
   "metadata": {},
   "outputs": [],
   "source": [
    "resultados_file_path_template = \"data/resultados/{}/{}.json\"\n",
    "resultados_file_path_template"
   ]
  },
  {
   "cell_type": "code",
   "execution_count": null,
   "metadata": {},
   "outputs": [],
   "source": [
    "partidos_mapping = {\n",
    "    134: \"massa\",\n",
    "    132: \"bullrich\",\n",
    "    135: \"milei\",\n",
    "    136: \"bregman\",\n",
    "    133: \"schiaretti\"\n",
    "}"
   ]
  },
  {
   "cell_type": "code",
   "execution_count": null,
   "metadata": {},
   "outputs": [],
   "source": [
    "limit = df_mesas.shape[0]\n",
    "# limit = 100\n",
    "\n",
    "header = [\"mesa_id\", \"distrito_id\", \"distrito\"]\n",
    "header.extend(list(partidos_mapping.values()))\n",
    "\n",
    "with open('data/resultados_mesas_full.csv', 'w', newline='', encoding='UTF8') as file:\n",
    "    writer = csv.DictWriter(file, fieldnames=header)\n",
    "    writer.writeheader()\n",
    "\n",
    "    #for mesa_id in tqdm(mesas_id_distrito[:100]):\n",
    "    for index, row in tqdm(df_mesas[:limit].iterrows(), total=limit):\n",
    "        mesa_id = str(row.get(\"identificador_unico_mesa\"))\n",
    "        distrito = str(row.get(\"distrito_nombre\"))\n",
    "        distrito_id = row.get(\"distrito_id\")\n",
    "\n",
    "        resultado_json_path = resultados_file_path_template.format(distrito, mesa_id)\n",
    "\n",
    "        with open(resultado_json_path, 'r', encoding='utf-8') as f:\n",
    "            resultado = json.loads(f.read())\n",
    "\n",
    "        row = {\n",
    "            \"mesa_id\": mesa_id,\n",
    "            \"distrito_id\": distrito_id,\n",
    "            \"distrito\": distrito,\n",
    "        }\n",
    "        # print(mesa_id)\n",
    "        for partido in resultado['partidos']:\n",
    "            row[partidos_mapping[int(partido['code'])]] = int(partido['votos'])\n",
    "            # print(partido['name'], partido['code'], int(partido['votos']))\n",
    "        # print(\"\\n\")\n",
    "\n",
    "        writer.writerow(row)"
   ]
  }
 ],
 "metadata": {
  "kernelspec": {
   "display_name": "Python 3",
   "language": "python",
   "name": "python3"
  },
  "language_info": {
   "codemirror_mode": {
    "name": "ipython",
    "version": 3
   },
   "file_extension": ".py",
   "mimetype": "text/x-python",
   "name": "python",
   "nbconvert_exporter": "python",
   "pygments_lexer": "ipython3",
   "version": "3.8.0"
  }
 },
 "nbformat": 4,
 "nbformat_minor": 2
}
